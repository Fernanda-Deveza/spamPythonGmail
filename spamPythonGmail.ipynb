{
 "cells": [
  {
   "cell_type": "code",
   "execution_count": 12,
   "metadata": {},
   "outputs": [],
   "source": [
    "import pandas as pd\n",
    "import smtplib\n",
    "from email.mime.multipart import MIMEMultipart\n",
    "from email.mime.text import MIMEText\n",
    "from IPython.core.display import HTML\n",
    "from email.mime.multipart import MIMEMultipart\n",
    "from email.mime.text import MIMEText\n",
    "from email.mime.base import MIMEBase\n",
    "from email import encoders\n",
    "from email.mime.application import MIMEApplication"
   ]
  },
  {
   "cell_type": "markdown",
   "metadata": {},
   "source": [
    "## Conexão "
   ]
  },
  {
   "cell_type": "code",
   "execution_count": 10,
   "metadata": {},
   "outputs": [
    {
     "name": "stdout",
     "output_type": "stream",
     "text": [
      "Email: marialeitao@bemol.com.br conectado!\n"
     ]
    },
    {
     "data": {
      "text/plain": [
       "(221, b'2.0.0 closing connection u71sm4306273vke.12 - gsmtp')"
      ]
     },
     "execution_count": 10,
     "metadata": {},
     "output_type": "execute_result"
    }
   ],
   "source": [
    "#Conectando com servidor gmail\n",
    "s = smtplib.SMTP(host='smtp.gmail.com', port=587)\n",
    "s.ehlo()\n",
    "s.starttls()\n",
    "\n",
    "#Fazer login\n",
    "meu_email = \"marialeitao@bemol.com.br\"\n",
    "senha = \"qatatygiddokumpq\"\n",
    "try:\n",
    "    s.login(meu_email, senha)\n",
    "    print(\"Email: \"+meu_email+\" conectado!\")\n",
    "except:\n",
    "    print(\"E-mail ou senha incorretos\")\n",
    "    \n",
    "#Montando mensagem\n",
    "remetente = \"mfdl@icomp.ufam.edu.br\"\n",
    "msg = MIMEMultipart()\n",
    "msg['Subject'] = \"TESTE ASSUNtO AQUI \"\n",
    "msg['From'] = meu_email\n",
    "#msg['CC'] = \"divisaodepessoalbemol@bemol.com.br\"\n",
    "msg['To'] =remetente\n",
    "html =\"OI AMIGOS, BOM DIA !!\"\n",
    "\n",
    "msg.attach(MIMEText(html, 'html'))\n",
    "# path_fileAviso = join(path_aviso,\"{}.pdf\".format(mat))\n",
    "#attatchment = open(path_fileAviso, 'rb')\n",
    "# part = MIMEApplication(attatchment.read())\n",
    "#part = MIMEApplication(html)\n",
    "#part['Content-Disposition'] = 'attatchment; filename='+str(mat)+'.pdf'\n",
    "#msg.attach(part)\n",
    "s.sendmail(meu_email, remetente, msg.as_string())\n",
    "s.quit()\n"
   ]
  },
  {
   "cell_type": "code",
   "execution_count": null,
   "metadata": {},
   "outputs": [],
   "source": []
  }
 ],
 "metadata": {
  "kernelspec": {
   "display_name": "Python 3",
   "language": "python",
   "name": "python3"
  },
  "language_info": {
   "codemirror_mode": {
    "name": "ipython",
    "version": 3
   },
   "file_extension": ".py",
   "mimetype": "text/x-python",
   "name": "python",
   "nbconvert_exporter": "python",
   "pygments_lexer": "ipython3",
   "version": "3.7.3"
  }
 },
 "nbformat": 4,
 "nbformat_minor": 4
}
