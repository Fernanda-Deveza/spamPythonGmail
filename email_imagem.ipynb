{
 "cells": [
  {
   "cell_type": "code",
   "execution_count": 45,
   "metadata": {},
   "outputs": [],
   "source": [
    "from email.mime.multipart import MIMEMultipart\n",
    "from email.mime.text import MIMEText\n",
    "from email.mime.image import MIMEImage\n",
    "import smtplib"
   ]
  },
  {
   "cell_type": "code",
   "execution_count": 43,
   "metadata": {},
   "outputs": [
    {
     "data": {
      "text/plain": [
       "(221, b'2.0.0 closing connection z4sm3847923pjn.29 - gsmtp')"
      ]
     },
     "execution_count": 43,
     "metadata": {},
     "output_type": "execute_result"
    }
   ],
   "source": [
    "strFrom = me\n",
    "strTo = to\n",
    "\n",
    "msgRoot = MIMEMultipart('related')\n",
    "msgRoot['Subject'] = 'ASSUNTO DO E-MAIL'\n",
    "msgRoot['From'] = strFrom\n",
    "msgRoot['To'] = strTo\n",
    "\n",
    "msgAlternative = MIMEMultipart('alternative')\n",
    "msgRoot.attach(msgAlternative)\n",
    "\n",
    "msgText = MIMEText('')\n",
    "msgAlternative.attach(msgText)\n",
    "\n",
    "#HTML DO GMAIL\n",
    "msgText = MIMEText('<b>uhuuuuu<br><img src=\"cid:image1\" width=\"720\" height=\"800\"><br>', 'html')\n",
    "msgAlternative.attach(msgText)\n",
    "\n",
    "# Pega a imagem\n",
    "fp = open('imagem.jpg', 'rb')\n",
    "msgImage = MIMEImage(fp.read())\n",
    "fp.close()\n",
    "\n",
    "msgImage.add_header('Content-ID', '<image1>')\n",
    "msgRoot.attach(msgImage)\n",
    "\n",
    "# Enviando e-mail\n",
    "## conecta\n",
    "smtp = smtplib.SMTP(host='smtp.gmail.com', port=587)\n",
    "smtp.ehlo()\n",
    "smtp.starttls()\n",
    "## faz login\n",
    "smtp.login(strFrom, senha)\n",
    "## envia o email\n",
    "smtp.sendmail(strFrom, strTo, msgRoot.as_string())\n",
    "## fecha a conexao\n",
    "smtp.quit()"
   ]
  },
  {
   "cell_type": "code",
   "execution_count": null,
   "metadata": {},
   "outputs": [],
   "source": []
  }
 ],
 "metadata": {
  "kernelspec": {
   "display_name": "Python 3",
   "language": "python",
   "name": "python3"
  },
  "language_info": {
   "codemirror_mode": {
    "name": "ipython",
    "version": 3
   },
   "file_extension": ".py",
   "mimetype": "text/x-python",
   "name": "python",
   "nbconvert_exporter": "python",
   "pygments_lexer": "ipython3",
   "version": "3.7.3"
  }
 },
 "nbformat": 4,
 "nbformat_minor": 4
}
