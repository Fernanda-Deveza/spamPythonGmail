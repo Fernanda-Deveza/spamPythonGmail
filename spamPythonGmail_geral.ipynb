{
 "cells": [
  {
   "cell_type": "code",
   "execution_count": 1,
   "metadata": {},
   "outputs": [],
   "source": [
    "import pandas as pd\n",
    "import smtplib\n",
    "from email.mime.multipart import MIMEMultipart\n",
    "from email.mime.text import MIMEText\n",
    "from IPython.core.display import HTML\n",
    "from email.mime.multipart import MIMEMultipart\n",
    "from email.mime.text import MIMEText\n",
    "from email.mime.base import MIMEBase\n",
    "from email import encoders\n",
    "from email.mime.application import MIMEApplication"
   ]
  },
  {
   "cell_type": "code",
   "execution_count": 6,
   "metadata": {},
   "outputs": [
    {
     "name": "stdout",
     "output_type": "stream",
     "text": [
      "Email: marialeitao@bemol.com.br conectado!\n"
     ]
    },
    {
     "data": {
      "text/plain": [
       "(221, b'2.0.0 closing connection l23sm4447677vkm.34 - gsmtp')"
      ]
     },
     "execution_count": 6,
     "metadata": {},
     "output_type": "execute_result"
    }
   ],
   "source": [
    "#Conectando com servidor gmail\n",
    "s = smtplib.SMTP(host='smtp.gmail.com', port=587)\n",
    "s.ehlo()\n",
    "s.starttls()\n",
    "\n",
    "#Fazer login\n",
    "meu_email = me\n",
    "senha = \"\"\n",
    "try:\n",
    "    s.login(meu_email, senha)\n",
    "    print(\"Email: \"+meu_email+\" conectado!\")\n",
    "except:\n",
    "    print(\"E-mail ou senha incorretos\")\n",
    "    \n",
    "#Montando mensagem\n",
    "remetente = [\"email1\", \"email2\"] ## mandando para uma lista de e-mails\n",
    "msg = MIMEMultipart()\n",
    "msg['Subject'] = \"ASSUNTO\"\n",
    "msg['From'] = meu_email\n",
    "msg['CC'] = \"email copia\"\n",
    "msg['To'] =\", \".join(remetente)\n",
    "html =\"OI AMIGOS, BOM DIA  !!\"\n",
    "\n",
    "msg.attach(MIMEText(html, 'html'))\n",
    "s.sendmail(meu_email, remetente, msg.as_string())\n",
    "s.quit()\n"
   ]
  },
  {
   "cell_type": "code",
   "execution_count": null,
   "metadata": {},
   "outputs": [],
   "source": []
  }
 ],
 "metadata": {
  "kernelspec": {
   "display_name": "Python 3",
   "language": "python",
   "name": "python3"
  },
  "language_info": {
   "codemirror_mode": {
    "name": "ipython",
    "version": 3
   },
   "file_extension": ".py",
   "mimetype": "text/x-python",
   "name": "python",
   "nbconvert_exporter": "python",
   "pygments_lexer": "ipython3",
   "version": "3.7.3"
  }
 },
 "nbformat": 4,
 "nbformat_minor": 4
}
